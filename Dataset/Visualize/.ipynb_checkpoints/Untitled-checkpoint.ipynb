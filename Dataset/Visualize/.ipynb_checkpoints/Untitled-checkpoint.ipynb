{
 "cells": [
  {
   "cell_type": "code",
   "execution_count": 1,
   "id": "50acd10e",
   "metadata": {},
   "outputs": [],
   "source": [
    "# Libraries for data preparation & visualization\n",
    "import numpy as np\n",
    "import seaborn as sns\n",
    "import pandas as pd\n",
    "# import plotly.io as pio\n",
    "import matplotlib.pyplot as plt\n",
    "# pio.renderers.default = \"png\"\n",
    "\n",
    "# Ignore printing warnings for general readability\n",
    "import warnings \n",
    "warnings.filterwarnings(\"ignore\")"
   ]
  },
  {
   "cell_type": "code",
   "execution_count": 2,
   "id": "f3f9a137",
   "metadata": {},
   "outputs": [],
   "source": [
    "data_path = \"../hardwareStore.csv\""
   ]
  },
  {
   "cell_type": "code",
   "execution_count": 3,
   "id": "5e9163e7",
   "metadata": {},
   "outputs": [],
   "source": [
    "df = pd.read_csv(f'{data_path}',sep=',', encoding='latin-1', error_bad_lines=False, warn_bad_lines=False,)"
   ]
  },
  {
   "cell_type": "code",
   "execution_count": 6,
   "id": "2cfefaf6",
   "metadata": {},
   "outputs": [
    {
     "data": {
      "text/plain": [
       "(1112, 22)"
      ]
     },
     "execution_count": 6,
     "metadata": {},
     "output_type": "execute_result"
    }
   ],
   "source": [
    "df.shape"
   ]
  },
  {
   "cell_type": "code",
   "execution_count": 8,
   "id": "3a146363",
   "metadata": {},
   "outputs": [
    {
     "name": "stdout",
     "output_type": "stream",
     "text": [
      "<class 'pandas.core.frame.DataFrame'>\n",
      "RangeIndex: 1112 entries, 0 to 1111\n",
      "Data columns (total 22 columns):\n",
      " #   Column                  Non-Null Count  Dtype  \n",
      "---  ------                  --------------  -----  \n",
      " 0   ï»¿CATEGORY_ID          1112 non-null   int64  \n",
      " 1   CATEGORY_NAME           1112 non-null   object \n",
      " 2   PRODUCT_ID              1112 non-null   int64  \n",
      " 3   PRODUCT_NAME            1112 non-null   object \n",
      " 4   DESCRIPTION             1112 non-null   object \n",
      " 5   DESCRIPTION - Detail 1  1112 non-null   object \n",
      " 6   DESCRIPTION - Detail 2  1112 non-null   object \n",
      " 7   DESCRIPTION - Detail 3  794 non-null    object \n",
      " 8   DESCRIPTION - Detail 4  350 non-null    object \n",
      " 9   STANDARD_COST           1112 non-null   float64\n",
      " 10  LIST_PRICE              1112 non-null   float64\n",
      " 11  COUNTRY_ID              1112 non-null   object \n",
      " 12  REGION_ID               1112 non-null   int64  \n",
      " 13  LOCATION_ID             1112 non-null   int64  \n",
      " 14  WAREHOUSE_ID            1112 non-null   int64  \n",
      " 15  QUANTITY                1112 non-null   int64  \n",
      " 16  WAREHOUSE_NAME          1112 non-null   object \n",
      " 17  ADDRESS                 1112 non-null   object \n",
      " 18  POSTAL_CODE             1112 non-null   object \n",
      " 19  CITY                    1112 non-null   object \n",
      " 20  STATE                   1112 non-null   object \n",
      " 21  COUNTRY_NAME            1112 non-null   object \n",
      "dtypes: float64(2), int64(6), object(14)\n",
      "memory usage: 191.2+ KB\n"
     ]
    }
   ],
   "source": [
    "df.info()"
   ]
  },
  {
   "cell_type": "code",
   "execution_count": 13,
   "id": "b28cd652",
   "metadata": {},
   "outputs": [
    {
     "data": {
      "text/plain": [
       "<AxesSubplot:title={'center':'\\nRating counts\\n'}, xlabel='REGION_ID', ylabel='count'>"
      ]
     },
     "execution_count": 13,
     "metadata": {},
     "output_type": "execute_result"
    },
    {
     "data": {
      "image/png": "[encoded data removed]",
      "text/plain": [
       "<Figure size 200x300 with 1 Axes>"
      ]
     },
     "metadata": {},
     "output_type": "display_data"
    }
   ],
   "source": [
    "plt.figure(figsize=[2,3])\n",
    "plt.rc('font', size=12)\n",
    "plt.title('\\nRegion\\n')\n",
    "sns.countplot(x='REGION_ID',data=df, palette = 'Set2')"
   ]
  },
  {
   "cell_type": "code",
   "execution_count": null,
   "id": "6633a1c7",
   "metadata": {},
   "outputs": [],
   "source": []
  }
 ],
 "metadata": {
  "kernelspec": {
   "display_name": "Python 3 (ipykernel)",
   "language": "python",
   "name": "python3"
  },
  "language_info": {
   "codemirror_mode": {
    "name": "ipython",
    "version": 3
   },
   "file_extension": ".py",
   "mimetype": "text/x-python",
   "name": "python",
   "nbconvert_exporter": "python",
   "pygments_lexer": "ipython3",
   "version": "3.9.13"
  }
 },
 "nbformat": 4,
 "nbformat_minor": 5
}
